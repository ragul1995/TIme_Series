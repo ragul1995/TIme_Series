{
  "nbformat": 4,
  "nbformat_minor": 0,
  "metadata": {
    "kernelspec": {
      "display_name": "Python 3",
      "language": "python",
      "name": "python3"
    },
    "language_info": {
      "codemirror_mode": {
        "name": "ipython",
        "version": 3
      },
      "file_extension": ".py",
      "mimetype": "text/x-python",
      "name": "python",
      "nbconvert_exporter": "python",
      "pygments_lexer": "ipython3",
      "version": "3.7.2"
    },
    "colab": {
      "name": "Auto_ARIMA.ipynb",
      "provenance": [],
      "toc_visible": true
    },
    "accelerator": "GPU"
  },
  "cells": [
    {
      "cell_type": "markdown",
      "metadata": {
        "id": "x_Dc4KkKRAnQ",
        "colab_type": "text"
      },
      "source": [
        "# How to choose ARIMA Orders using **Auto_Arima**\n",
        "\n",
        "Before we can apply an ARIMA forecasting model, we need to review the components of one.<br>\n",
        "ARIMA, or Autoregressive Independent Moving Average is actually a combination of 3 models:\n",
        "* <strong>AR(p)</strong> Autoregression - a regression model that utilizes the dependent relationship between a current observation and observations over a previous period.\n",
        "* <strong>I(d)</strong> Integration - uses differencing of observations (subtracting an observation from an observation at the previous time step) in order to make the time series stationary\n",
        "* <strong>MA(q)</strong> Moving Average - a model that uses the dependency between an observation and a residual error from a moving average model applied to lagged observations.\n",
        "\n"
      ]
    },
    {
      "cell_type": "code",
      "metadata": {
        "id": "JGv2n14vSroN",
        "colab_type": "code",
        "colab": {
          "base_uri": "https://localhost:8080/",
          "height": 126
        },
        "outputId": "8fabd578-681c-4682-a5df-24aa1ab88ebd"
      },
      "source": [
        "from google.colab import drive\n",
        "drive.mount('/content/drive')"
      ],
      "execution_count": 3,
      "outputs": [
        {
          "output_type": "stream",
          "text": [
            "Go to this URL in a browser: https://accounts.google.com/o/oauth2/auth?client_id=947318989803-6bn6qk8qdgf4n4g3pfee6491hc0brc4i.apps.googleusercontent.com&redirect_uri=urn%3aietf%3awg%3aoauth%3a2.0%3aoob&response_type=code&scope=email%20https%3a%2f%2fwww.googleapis.com%2fauth%2fdocs.test%20https%3a%2f%2fwww.googleapis.com%2fauth%2fdrive%20https%3a%2f%2fwww.googleapis.com%2fauth%2fdrive.photos.readonly%20https%3a%2f%2fwww.googleapis.com%2fauth%2fpeopleapi.readonly\n",
            "\n",
            "Enter your authorization code:\n",
            "··········\n",
            "Mounted at /content/drive\n"
          ],
          "name": "stdout"
        }
      ]
    },
    {
      "cell_type": "markdown",
      "metadata": {
        "id": "rFbRWX6nRAnS",
        "colab_type": "text"
      },
      "source": [
        "\n",
        "## Import Libs and load datasets"
      ]
    },
    {
      "cell_type": "code",
      "metadata": {
        "id": "hzAS6sKFRAnT",
        "colab_type": "code",
        "colab": {}
      },
      "source": [
        "import pandas as pd\n",
        "import numpy as np\n",
        "%matplotlib inline\n",
        "\n",
        "# Load a non-stationary dataset\n",
        "df1 = pd.read_csv('drive/My Drive/Data/airline_passengers.csv',index_col='Month',parse_dates=True)\n",
        "df1.index.freq = 'MS'\n",
        "\n",
        "# Load a stationary dataset\n",
        "df2 = pd.read_csv('drive/My Drive/Data/DailyTotalFemaleBirths.csv',index_col='Date',parse_dates=True)\n",
        "df2.index.freq = 'D'"
      ],
      "execution_count": 0,
      "outputs": []
    },
    {
      "cell_type": "markdown",
      "metadata": {
        "id": "ticqDupvRAnb",
        "colab_type": "text"
      },
      "source": [
        "## pmdarima Auto-ARIMA\n"
      ]
    },
    {
      "cell_type": "code",
      "metadata": {
        "id": "_d2yIV05ShMZ",
        "colab_type": "code",
        "colab": {
          "base_uri": "https://localhost:8080/",
          "height": 339
        },
        "outputId": "58487145-647c-4475-df6d-b418d853dedd"
      },
      "source": [
        "!pip install pmdarima"
      ],
      "execution_count": 1,
      "outputs": [
        {
          "output_type": "stream",
          "text": [
            "Collecting pmdarima\n",
            "\u001b[?25l  Downloading https://files.pythonhosted.org/packages/ff/07/7c173cc4fee44ebd62ddf03b3de84c4f151ec23facdf16baf58b8d02784c/pmdarima-1.6.0-cp36-cp36m-manylinux1_x86_64.whl (1.5MB)\n",
            "\r\u001b[K     |▎                               | 10kB 14.0MB/s eta 0:00:01\r\u001b[K     |▌                               | 20kB 4.4MB/s eta 0:00:01\r\u001b[K     |▊                               | 30kB 5.6MB/s eta 0:00:01\r\u001b[K     |█                               | 40kB 5.8MB/s eta 0:00:01\r\u001b[K     |█▏                              | 51kB 4.8MB/s eta 0:00:01\r\u001b[K     |█▍                              | 61kB 5.3MB/s eta 0:00:01\r\u001b[K     |█▋                              | 71kB 5.7MB/s eta 0:00:01\r\u001b[K     |█▉                              | 81kB 6.2MB/s eta 0:00:01\r\u001b[K     |██                              | 92kB 6.0MB/s eta 0:00:01\r\u001b[K     |██▎                             | 102kB 6.2MB/s eta 0:00:01\r\u001b[K     |██▌                             | 112kB 6.2MB/s eta 0:00:01\r\u001b[K     |██▊                             | 122kB 6.2MB/s eta 0:00:01\r\u001b[K     |███                             | 133kB 6.2MB/s eta 0:00:01\r\u001b[K     |███▏                            | 143kB 6.2MB/s eta 0:00:01\r\u001b[K     |███▍                            | 153kB 6.2MB/s eta 0:00:01\r\u001b[K     |███▋                            | 163kB 6.2MB/s eta 0:00:01\r\u001b[K     |███▉                            | 174kB 6.2MB/s eta 0:00:01\r\u001b[K     |████                            | 184kB 6.2MB/s eta 0:00:01\r\u001b[K     |████▎                           | 194kB 6.2MB/s eta 0:00:01\r\u001b[K     |████▌                           | 204kB 6.2MB/s eta 0:00:01\r\u001b[K     |████▊                           | 215kB 6.2MB/s eta 0:00:01\r\u001b[K     |█████                           | 225kB 6.2MB/s eta 0:00:01\r\u001b[K     |█████▏                          | 235kB 6.2MB/s eta 0:00:01\r\u001b[K     |█████▍                          | 245kB 6.2MB/s eta 0:00:01\r\u001b[K     |█████▋                          | 256kB 6.2MB/s eta 0:00:01\r\u001b[K     |█████▉                          | 266kB 6.2MB/s eta 0:00:01\r\u001b[K     |██████                          | 276kB 6.2MB/s eta 0:00:01\r\u001b[K     |██████▎                         | 286kB 6.2MB/s eta 0:00:01\r\u001b[K     |██████▌                         | 296kB 6.2MB/s eta 0:00:01\r\u001b[K     |██████▊                         | 307kB 6.2MB/s eta 0:00:01\r\u001b[K     |███████                         | 317kB 6.2MB/s eta 0:00:01\r\u001b[K     |███████▏                        | 327kB 6.2MB/s eta 0:00:01\r\u001b[K     |███████▍                        | 337kB 6.2MB/s eta 0:00:01\r\u001b[K     |███████▋                        | 348kB 6.2MB/s eta 0:00:01\r\u001b[K     |███████▉                        | 358kB 6.2MB/s eta 0:00:01\r\u001b[K     |████████                        | 368kB 6.2MB/s eta 0:00:01\r\u001b[K     |████████▎                       | 378kB 6.2MB/s eta 0:00:01\r\u001b[K     |████████▌                       | 389kB 6.2MB/s eta 0:00:01\r\u001b[K     |████████▊                       | 399kB 6.2MB/s eta 0:00:01\r\u001b[K     |█████████                       | 409kB 6.2MB/s eta 0:00:01\r\u001b[K     |█████████▏                      | 419kB 6.2MB/s eta 0:00:01\r\u001b[K     |█████████▌                      | 430kB 6.2MB/s eta 0:00:01\r\u001b[K     |█████████▊                      | 440kB 6.2MB/s eta 0:00:01\r\u001b[K     |██████████                      | 450kB 6.2MB/s eta 0:00:01\r\u001b[K     |██████████▏                     | 460kB 6.2MB/s eta 0:00:01\r\u001b[K     |██████████▍                     | 471kB 6.2MB/s eta 0:00:01\r\u001b[K     |██████████▋                     | 481kB 6.2MB/s eta 0:00:01\r\u001b[K     |██████████▉                     | 491kB 6.2MB/s eta 0:00:01\r\u001b[K     |███████████                     | 501kB 6.2MB/s eta 0:00:01\r\u001b[K     |███████████▎                    | 512kB 6.2MB/s eta 0:00:01\r\u001b[K     |███████████▌                    | 522kB 6.2MB/s eta 0:00:01\r\u001b[K     |███████████▊                    | 532kB 6.2MB/s eta 0:00:01\r\u001b[K     |████████████                    | 542kB 6.2MB/s eta 0:00:01\r\u001b[K     |████████████▏                   | 552kB 6.2MB/s eta 0:00:01\r\u001b[K     |████████████▍                   | 563kB 6.2MB/s eta 0:00:01\r\u001b[K     |████████████▋                   | 573kB 6.2MB/s eta 0:00:01\r\u001b[K     |████████████▉                   | 583kB 6.2MB/s eta 0:00:01\r\u001b[K     |█████████████                   | 593kB 6.2MB/s eta 0:00:01\r\u001b[K     |█████████████▎                  | 604kB 6.2MB/s eta 0:00:01\r\u001b[K     |█████████████▌                  | 614kB 6.2MB/s eta 0:00:01\r\u001b[K     |█████████████▊                  | 624kB 6.2MB/s eta 0:00:01\r\u001b[K     |██████████████                  | 634kB 6.2MB/s eta 0:00:01\r\u001b[K     |██████████████▏                 | 645kB 6.2MB/s eta 0:00:01\r\u001b[K     |██████████████▍                 | 655kB 6.2MB/s eta 0:00:01\r\u001b[K     |██████████████▋                 | 665kB 6.2MB/s eta 0:00:01\r\u001b[K     |██████████████▉                 | 675kB 6.2MB/s eta 0:00:01\r\u001b[K     |███████████████                 | 686kB 6.2MB/s eta 0:00:01\r\u001b[K     |███████████████▎                | 696kB 6.2MB/s eta 0:00:01\r\u001b[K     |███████████████▌                | 706kB 6.2MB/s eta 0:00:01\r\u001b[K     |███████████████▊                | 716kB 6.2MB/s eta 0:00:01\r\u001b[K     |████████████████                | 727kB 6.2MB/s eta 0:00:01\r\u001b[K     |████████████████▏               | 737kB 6.2MB/s eta 0:00:01\r\u001b[K     |████████████████▍               | 747kB 6.2MB/s eta 0:00:01\r\u001b[K     |████████████████▋               | 757kB 6.2MB/s eta 0:00:01\r\u001b[K     |████████████████▉               | 768kB 6.2MB/s eta 0:00:01\r\u001b[K     |█████████████████               | 778kB 6.2MB/s eta 0:00:01\r\u001b[K     |█████████████████▎              | 788kB 6.2MB/s eta 0:00:01\r\u001b[K     |█████████████████▌              | 798kB 6.2MB/s eta 0:00:01\r\u001b[K     |█████████████████▊              | 808kB 6.2MB/s eta 0:00:01\r\u001b[K     |██████████████████              | 819kB 6.2MB/s eta 0:00:01\r\u001b[K     |██████████████████▏             | 829kB 6.2MB/s eta 0:00:01\r\u001b[K     |██████████████████▍             | 839kB 6.2MB/s eta 0:00:01\r\u001b[K     |██████████████████▊             | 849kB 6.2MB/s eta 0:00:01\r\u001b[K     |███████████████████             | 860kB 6.2MB/s eta 0:00:01\r\u001b[K     |███████████████████▏            | 870kB 6.2MB/s eta 0:00:01\r\u001b[K     |███████████████████▍            | 880kB 6.2MB/s eta 0:00:01\r\u001b[K     |███████████████████▋            | 890kB 6.2MB/s eta 0:00:01\r\u001b[K     |███████████████████▉            | 901kB 6.2MB/s eta 0:00:01\r\u001b[K     |████████████████████            | 911kB 6.2MB/s eta 0:00:01\r\u001b[K     |████████████████████▎           | 921kB 6.2MB/s eta 0:00:01\r\u001b[K     |████████████████████▌           | 931kB 6.2MB/s eta 0:00:01\r\u001b[K     |████████████████████▊           | 942kB 6.2MB/s eta 0:00:01\r\u001b[K     |█████████████████████           | 952kB 6.2MB/s eta 0:00:01\r\u001b[K     |█████████████████████▏          | 962kB 6.2MB/s eta 0:00:01\r\u001b[K     |█████████████████████▍          | 972kB 6.2MB/s eta 0:00:01\r\u001b[K     |█████████████████████▋          | 983kB 6.2MB/s eta 0:00:01\r\u001b[K     |█████████████████████▉          | 993kB 6.2MB/s eta 0:00:01\r\u001b[K     |██████████████████████          | 1.0MB 6.2MB/s eta 0:00:01\r\u001b[K     |██████████████████████▎         | 1.0MB 6.2MB/s eta 0:00:01\r\u001b[K     |██████████████████████▌         | 1.0MB 6.2MB/s eta 0:00:01\r\u001b[K     |██████████████████████▊         | 1.0MB 6.2MB/s eta 0:00:01\r\u001b[K     |███████████████████████         | 1.0MB 6.2MB/s eta 0:00:01\r\u001b[K     |███████████████████████▏        | 1.1MB 6.2MB/s eta 0:00:01\r\u001b[K     |███████████████████████▍        | 1.1MB 6.2MB/s eta 0:00:01\r\u001b[K     |███████████████████████▋        | 1.1MB 6.2MB/s eta 0:00:01\r\u001b[K     |███████████████████████▉        | 1.1MB 6.2MB/s eta 0:00:01\r\u001b[K     |████████████████████████        | 1.1MB 6.2MB/s eta 0:00:01\r\u001b[K     |████████████████████████▎       | 1.1MB 6.2MB/s eta 0:00:01\r\u001b[K     |████████████████████████▌       | 1.1MB 6.2MB/s eta 0:00:01\r\u001b[K     |████████████████████████▊       | 1.1MB 6.2MB/s eta 0:00:01\r\u001b[K     |█████████████████████████       | 1.1MB 6.2MB/s eta 0:00:01\r\u001b[K     |█████████████████████████▏      | 1.1MB 6.2MB/s eta 0:00:01\r\u001b[K     |█████████████████████████▍      | 1.2MB 6.2MB/s eta 0:00:01\r\u001b[K     |█████████████████████████▋      | 1.2MB 6.2MB/s eta 0:00:01\r\u001b[K     |█████████████████████████▉      | 1.2MB 6.2MB/s eta 0:00:01\r\u001b[K     |██████████████████████████      | 1.2MB 6.2MB/s eta 0:00:01\r\u001b[K     |██████████████████████████▎     | 1.2MB 6.2MB/s eta 0:00:01\r\u001b[K     |██████████████████████████▌     | 1.2MB 6.2MB/s eta 0:00:01\r\u001b[K     |██████████████████████████▊     | 1.2MB 6.2MB/s eta 0:00:01\r\u001b[K     |███████████████████████████     | 1.2MB 6.2MB/s eta 0:00:01\r\u001b[K     |███████████████████████████▏    | 1.2MB 6.2MB/s eta 0:00:01\r\u001b[K     |███████████████████████████▍    | 1.2MB 6.2MB/s eta 0:00:01\r\u001b[K     |███████████████████████████▋    | 1.3MB 6.2MB/s eta 0:00:01\r\u001b[K     |████████████████████████████    | 1.3MB 6.2MB/s eta 0:00:01\r\u001b[K     |████████████████████████████▏   | 1.3MB 6.2MB/s eta 0:00:01\r\u001b[K     |████████████████████████████▍   | 1.3MB 6.2MB/s eta 0:00:01\r\u001b[K     |████████████████████████████▋   | 1.3MB 6.2MB/s eta 0:00:01\r\u001b[K     |████████████████████████████▉   | 1.3MB 6.2MB/s eta 0:00:01\r\u001b[K     |█████████████████████████████   | 1.3MB 6.2MB/s eta 0:00:01\r\u001b[K     |█████████████████████████████▎  | 1.3MB 6.2MB/s eta 0:00:01\r\u001b[K     |█████████████████████████████▌  | 1.3MB 6.2MB/s eta 0:00:01\r\u001b[K     |█████████████████████████████▊  | 1.4MB 6.2MB/s eta 0:00:01\r\u001b[K     |██████████████████████████████  | 1.4MB 6.2MB/s eta 0:00:01\r\u001b[K     |██████████████████████████████▏ | 1.4MB 6.2MB/s eta 0:00:01\r\u001b[K     |██████████████████████████████▍ | 1.4MB 6.2MB/s eta 0:00:01\r\u001b[K     |██████████████████████████████▋ | 1.4MB 6.2MB/s eta 0:00:01\r\u001b[K     |██████████████████████████████▉ | 1.4MB 6.2MB/s eta 0:00:01\r\u001b[K     |███████████████████████████████ | 1.4MB 6.2MB/s eta 0:00:01\r\u001b[K     |███████████████████████████████▎| 1.4MB 6.2MB/s eta 0:00:01\r\u001b[K     |███████████████████████████████▌| 1.4MB 6.2MB/s eta 0:00:01\r\u001b[K     |███████████████████████████████▊| 1.4MB 6.2MB/s eta 0:00:01\r\u001b[K     |████████████████████████████████| 1.5MB 6.2MB/s eta 0:00:01\r\u001b[K     |████████████████████████████████| 1.5MB 6.2MB/s \n",
            "\u001b[?25hRequirement already satisfied: Cython>=0.29 in /usr/local/lib/python3.6/dist-packages (from pmdarima) (0.29.17)\n",
            "Requirement already satisfied: scikit-learn>=0.22 in /usr/local/lib/python3.6/dist-packages (from pmdarima) (0.22.2.post1)\n",
            "Requirement already satisfied: joblib>=0.11 in /usr/local/lib/python3.6/dist-packages (from pmdarima) (0.14.1)\n",
            "Requirement already satisfied: scipy>=1.3.2 in /usr/local/lib/python3.6/dist-packages (from pmdarima) (1.4.1)\n",
            "Requirement already satisfied: urllib3 in /usr/local/lib/python3.6/dist-packages (from pmdarima) (1.24.3)\n",
            "Requirement already satisfied: statsmodels>=0.10.2 in /usr/local/lib/python3.6/dist-packages (from pmdarima) (0.10.2)\n",
            "Requirement already satisfied: numpy>=1.17.3 in /usr/local/lib/python3.6/dist-packages (from pmdarima) (1.18.3)\n",
            "Requirement already satisfied: pandas>=0.19 in /usr/local/lib/python3.6/dist-packages (from pmdarima) (1.0.3)\n",
            "Requirement already satisfied: patsy>=0.4.0 in /usr/local/lib/python3.6/dist-packages (from statsmodels>=0.10.2->pmdarima) (0.5.1)\n",
            "Requirement already satisfied: pytz>=2017.2 in /usr/local/lib/python3.6/dist-packages (from pandas>=0.19->pmdarima) (2018.9)\n",
            "Requirement already satisfied: python-dateutil>=2.6.1 in /usr/local/lib/python3.6/dist-packages (from pandas>=0.19->pmdarima) (2.8.1)\n",
            "Requirement already satisfied: six in /usr/local/lib/python3.6/dist-packages (from patsy>=0.4.0->statsmodels>=0.10.2->pmdarima) (1.12.0)\n",
            "Installing collected packages: pmdarima\n",
            "Successfully installed pmdarima-1.6.0\n"
          ],
          "name": "stdout"
        }
      ]
    },
    {
      "cell_type": "code",
      "metadata": {
        "id": "ll4lZyx4RAnd",
        "colab_type": "code",
        "colab": {
          "base_uri": "https://localhost:8080/",
          "height": 72
        },
        "outputId": "e73622a7-5302-4754-cef3-2462b4e0dec8"
      },
      "source": [
        "from pmdarima import auto_arima\n",
        "\n",
        "# Ignore harmless warnings\n",
        "import warnings\n",
        "warnings.filterwarnings(\"ignore\")"
      ],
      "execution_count": 5,
      "outputs": [
        {
          "output_type": "stream",
          "text": [
            "/usr/local/lib/python3.6/dist-packages/statsmodels/tools/_testing.py:19: FutureWarning: pandas.util.testing is deprecated. Use the functions in the public API at pandas.testing instead.\n",
            "  import pandas.util.testing as tm\n"
          ],
          "name": "stderr"
        }
      ]
    },
    {
      "cell_type": "code",
      "metadata": {
        "id": "JxH31ZotRAnp",
        "colab_type": "code",
        "colab": {
          "base_uri": "https://localhost:8080/",
          "height": 88
        },
        "outputId": "286738b2-e51f-41bd-c61d-6e2678e326da"
      },
      "source": [
        "auto_arima(df2['Births'])"
      ],
      "execution_count": 6,
      "outputs": [
        {
          "output_type": "execute_result",
          "data": {
            "text/plain": [
              "ARIMA(maxiter=50, method='lbfgs', order=(1, 1, 1), out_of_sample_size=0,\n",
              "      scoring='mse', scoring_args=None, seasonal_order=(0, 0, 0, 0),\n",
              "      start_params=None, suppress_warnings=False, trend=None,\n",
              "      with_intercept=True)"
            ]
          },
          "metadata": {
            "tags": []
          },
          "execution_count": 6
        }
      ]
    },
    {
      "cell_type": "code",
      "metadata": {
        "id": "XGTpZ7ccRAnt",
        "colab_type": "code",
        "colab": {
          "base_uri": "https://localhost:8080/",
          "height": 434
        },
        "outputId": "21ecd8ac-3bef-4464-dd94-bb8a876723d0"
      },
      "source": [
        "auto_arima(df2['Births'],error_action='ignore').summary()"
      ],
      "execution_count": 7,
      "outputs": [
        {
          "output_type": "execute_result",
          "data": {
            "text/html": [
              "<table class=\"simpletable\">\n",
              "<caption>Statespace Model Results</caption>\n",
              "<tr>\n",
              "  <th>Dep. Variable:</th>           <td>y</td>        <th>  No. Observations:  </th>    <td>365</td>   \n",
              "</tr>\n",
              "<tr>\n",
              "  <th>Model:</th>           <td>SARIMAX(1, 1, 1)</td> <th>  Log Likelihood     </th> <td>-1226.077</td>\n",
              "</tr>\n",
              "<tr>\n",
              "  <th>Date:</th>            <td>Wed, 06 May 2020</td> <th>  AIC                </th> <td>2460.154</td> \n",
              "</tr>\n",
              "<tr>\n",
              "  <th>Time:</th>                <td>09:25:25</td>     <th>  BIC                </th> <td>2475.743</td> \n",
              "</tr>\n",
              "<tr>\n",
              "  <th>Sample:</th>                  <td>0</td>        <th>  HQIC               </th> <td>2466.350</td> \n",
              "</tr>\n",
              "<tr>\n",
              "  <th></th>                      <td> - 365</td>      <th>                     </th>     <td> </td>    \n",
              "</tr>\n",
              "<tr>\n",
              "  <th>Covariance Type:</th>        <td>opg</td>       <th>                     </th>     <td> </td>    \n",
              "</tr>\n",
              "</table>\n",
              "<table class=\"simpletable\">\n",
              "<tr>\n",
              "      <td></td>         <th>coef</th>     <th>std err</th>      <th>z</th>      <th>P>|z|</th>  <th>[0.025</th>    <th>0.975]</th>  \n",
              "</tr>\n",
              "<tr>\n",
              "  <th>intercept</th> <td>    0.0132</td> <td>    0.014</td> <td>    0.975</td> <td> 0.330</td> <td>   -0.013</td> <td>    0.040</td>\n",
              "</tr>\n",
              "<tr>\n",
              "  <th>ar.L1</th>     <td>    0.1299</td> <td>    0.059</td> <td>    2.217</td> <td> 0.027</td> <td>    0.015</td> <td>    0.245</td>\n",
              "</tr>\n",
              "<tr>\n",
              "  <th>ma.L1</th>     <td>   -0.9694</td> <td>    0.016</td> <td>  -62.235</td> <td> 0.000</td> <td>   -1.000</td> <td>   -0.939</td>\n",
              "</tr>\n",
              "<tr>\n",
              "  <th>sigma2</th>    <td>   48.9989</td> <td>    3.432</td> <td>   14.279</td> <td> 0.000</td> <td>   42.273</td> <td>   55.725</td>\n",
              "</tr>\n",
              "</table>\n",
              "<table class=\"simpletable\">\n",
              "<tr>\n",
              "  <th>Ljung-Box (Q):</th>          <td>36.69</td> <th>  Jarque-Bera (JB):  </th> <td>26.17</td>\n",
              "</tr>\n",
              "<tr>\n",
              "  <th>Prob(Q):</th>                <td>0.62</td>  <th>  Prob(JB):          </th> <td>0.00</td> \n",
              "</tr>\n",
              "<tr>\n",
              "  <th>Heteroskedasticity (H):</th> <td>0.97</td>  <th>  Skew:              </th> <td>0.58</td> \n",
              "</tr>\n",
              "<tr>\n",
              "  <th>Prob(H) (two-sided):</th>    <td>0.85</td>  <th>  Kurtosis:          </th> <td>3.62</td> \n",
              "</tr>\n",
              "</table><br/><br/>Warnings:<br/>[1] Covariance matrix calculated using the outer product of gradients (complex-step)."
            ],
            "text/plain": [
              "<class 'statsmodels.iolib.summary.Summary'>\n",
              "\"\"\"\n",
              "                           Statespace Model Results                           \n",
              "==============================================================================\n",
              "Dep. Variable:                      y   No. Observations:                  365\n",
              "Model:               SARIMAX(1, 1, 1)   Log Likelihood               -1226.077\n",
              "Date:                Wed, 06 May 2020   AIC                           2460.154\n",
              "Time:                        09:25:25   BIC                           2475.743\n",
              "Sample:                             0   HQIC                          2466.350\n",
              "                                - 365                                         \n",
              "Covariance Type:                  opg                                         \n",
              "==============================================================================\n",
              "                 coef    std err          z      P>|z|      [0.025      0.975]\n",
              "------------------------------------------------------------------------------\n",
              "intercept      0.0132      0.014      0.975      0.330      -0.013       0.040\n",
              "ar.L1          0.1299      0.059      2.217      0.027       0.015       0.245\n",
              "ma.L1         -0.9694      0.016    -62.235      0.000      -1.000      -0.939\n",
              "sigma2        48.9989      3.432     14.279      0.000      42.273      55.725\n",
              "===================================================================================\n",
              "Ljung-Box (Q):                       36.69   Jarque-Bera (JB):                26.17\n",
              "Prob(Q):                              0.62   Prob(JB):                         0.00\n",
              "Heteroskedasticity (H):               0.97   Skew:                             0.58\n",
              "Prob(H) (two-sided):                  0.85   Kurtosis:                         3.62\n",
              "===================================================================================\n",
              "\n",
              "Warnings:\n",
              "[1] Covariance matrix calculated using the outer product of gradients (complex-step).\n",
              "\"\"\""
            ]
          },
          "metadata": {
            "tags": []
          },
          "execution_count": 7
        }
      ]
    },
    {
      "cell_type": "markdown",
      "metadata": {
        "id": "QkGaHwYlRAnx",
        "colab_type": "text"
      },
      "source": [
        "This shows a recommended (p,d,q) ARIMA Order of (1,1,1), with no seasonal_order component.\n",
        "\n",
        "We can see how this was determined by looking at the stepwise results. The recommended order is the one with the lowest <a href='https://en.wikipedia.org/wiki/Akaike_information_criterion'>Akaike information criterion</a> or AIC score. Note that the recommended model may <em>not</em> be the one with the closest fit. The AIC score takes complexity into account, and tries to identify the best <em>forecasting</em> model."
      ]
    },
    {
      "cell_type": "code",
      "metadata": {
        "id": "_9bDOg-TRAnx",
        "colab_type": "code",
        "colab": {
          "base_uri": "https://localhost:8080/",
          "height": 665
        },
        "outputId": "629f1b9f-3780-4bca-d83a-690a4637be29"
      },
      "source": [
        "stepwise_fit = auto_arima(df2['Births'], start_p=0, start_q=0,\n",
        "                          max_p=6, max_q=3, m=12,\n",
        "                          seasonal=False,\n",
        "                          d=None, trace=True,\n",
        "                          error_action='ignore',   # we don't want to know if an order does not work\n",
        "                          suppress_warnings=True,  # we don't want convergence warnings\n",
        "                          stepwise=True)           # set to stepwise\n",
        "\n",
        "stepwise_fit.summary()"
      ],
      "execution_count": 8,
      "outputs": [
        {
          "output_type": "stream",
          "text": [
            "Performing stepwise search to minimize aic\n",
            "Fit ARIMA(0,1,0)x(0,0,0,0) [intercept=True]; AIC=2650.760, BIC=2658.555, Time=0.023 seconds\n",
            "Fit ARIMA(1,1,0)x(0,0,0,0) [intercept=True]; AIC=2565.234, BIC=2576.925, Time=0.057 seconds\n",
            "Fit ARIMA(0,1,1)x(0,0,0,0) [intercept=True]; AIC=2463.584, BIC=2475.275, Time=0.150 seconds\n",
            "Fit ARIMA(0,1,0)x(0,0,0,0) [intercept=False]; AIC=2648.768, BIC=2652.665, Time=0.018 seconds\n",
            "Fit ARIMA(1,1,1)x(0,0,0,0) [intercept=True]; AIC=2460.154, BIC=2475.743, Time=0.288 seconds\n",
            "Fit ARIMA(2,1,1)x(0,0,0,0) [intercept=True]; AIC=2461.271, BIC=2480.757, Time=0.406 seconds\n",
            "Fit ARIMA(1,1,2)x(0,0,0,0) [intercept=True]; AIC=2460.689, BIC=2480.175, Time=0.737 seconds\n",
            "Near non-invertible roots for order (1, 1, 2)(0, 0, 0, 0); setting score to inf (at least one inverse root too close to the border of the unit circle: 0.996)\n",
            "Fit ARIMA(0,1,2)x(0,0,0,0) [intercept=True]; AIC=2460.722, BIC=2476.311, Time=0.297 seconds\n",
            "Fit ARIMA(2,1,0)x(0,0,0,0) [intercept=True]; AIC=2536.154, BIC=2551.742, Time=0.179 seconds\n",
            "Fit ARIMA(2,1,2)x(0,0,0,0) [intercept=True]; AIC=2462.745, BIC=2486.128, Time=0.952 seconds\n",
            "Total fit time: 3.120 seconds\n"
          ],
          "name": "stdout"
        },
        {
          "output_type": "execute_result",
          "data": {
            "text/html": [
              "<table class=\"simpletable\">\n",
              "<caption>Statespace Model Results</caption>\n",
              "<tr>\n",
              "  <th>Dep. Variable:</th>           <td>y</td>        <th>  No. Observations:  </th>    <td>365</td>   \n",
              "</tr>\n",
              "<tr>\n",
              "  <th>Model:</th>           <td>SARIMAX(1, 1, 1)</td> <th>  Log Likelihood     </th> <td>-1226.077</td>\n",
              "</tr>\n",
              "<tr>\n",
              "  <th>Date:</th>            <td>Wed, 06 May 2020</td> <th>  AIC                </th> <td>2460.154</td> \n",
              "</tr>\n",
              "<tr>\n",
              "  <th>Time:</th>                <td>09:26:12</td>     <th>  BIC                </th> <td>2475.743</td> \n",
              "</tr>\n",
              "<tr>\n",
              "  <th>Sample:</th>                  <td>0</td>        <th>  HQIC               </th> <td>2466.350</td> \n",
              "</tr>\n",
              "<tr>\n",
              "  <th></th>                      <td> - 365</td>      <th>                     </th>     <td> </td>    \n",
              "</tr>\n",
              "<tr>\n",
              "  <th>Covariance Type:</th>        <td>opg</td>       <th>                     </th>     <td> </td>    \n",
              "</tr>\n",
              "</table>\n",
              "<table class=\"simpletable\">\n",
              "<tr>\n",
              "      <td></td>         <th>coef</th>     <th>std err</th>      <th>z</th>      <th>P>|z|</th>  <th>[0.025</th>    <th>0.975]</th>  \n",
              "</tr>\n",
              "<tr>\n",
              "  <th>intercept</th> <td>    0.0132</td> <td>    0.014</td> <td>    0.975</td> <td> 0.330</td> <td>   -0.013</td> <td>    0.040</td>\n",
              "</tr>\n",
              "<tr>\n",
              "  <th>ar.L1</th>     <td>    0.1299</td> <td>    0.059</td> <td>    2.217</td> <td> 0.027</td> <td>    0.015</td> <td>    0.245</td>\n",
              "</tr>\n",
              "<tr>\n",
              "  <th>ma.L1</th>     <td>   -0.9694</td> <td>    0.016</td> <td>  -62.235</td> <td> 0.000</td> <td>   -1.000</td> <td>   -0.939</td>\n",
              "</tr>\n",
              "<tr>\n",
              "  <th>sigma2</th>    <td>   48.9989</td> <td>    3.432</td> <td>   14.279</td> <td> 0.000</td> <td>   42.273</td> <td>   55.725</td>\n",
              "</tr>\n",
              "</table>\n",
              "<table class=\"simpletable\">\n",
              "<tr>\n",
              "  <th>Ljung-Box (Q):</th>          <td>36.69</td> <th>  Jarque-Bera (JB):  </th> <td>26.17</td>\n",
              "</tr>\n",
              "<tr>\n",
              "  <th>Prob(Q):</th>                <td>0.62</td>  <th>  Prob(JB):          </th> <td>0.00</td> \n",
              "</tr>\n",
              "<tr>\n",
              "  <th>Heteroskedasticity (H):</th> <td>0.97</td>  <th>  Skew:              </th> <td>0.58</td> \n",
              "</tr>\n",
              "<tr>\n",
              "  <th>Prob(H) (two-sided):</th>    <td>0.85</td>  <th>  Kurtosis:          </th> <td>3.62</td> \n",
              "</tr>\n",
              "</table><br/><br/>Warnings:<br/>[1] Covariance matrix calculated using the outer product of gradients (complex-step)."
            ],
            "text/plain": [
              "<class 'statsmodels.iolib.summary.Summary'>\n",
              "\"\"\"\n",
              "                           Statespace Model Results                           \n",
              "==============================================================================\n",
              "Dep. Variable:                      y   No. Observations:                  365\n",
              "Model:               SARIMAX(1, 1, 1)   Log Likelihood               -1226.077\n",
              "Date:                Wed, 06 May 2020   AIC                           2460.154\n",
              "Time:                        09:26:12   BIC                           2475.743\n",
              "Sample:                             0   HQIC                          2466.350\n",
              "                                - 365                                         \n",
              "Covariance Type:                  opg                                         \n",
              "==============================================================================\n",
              "                 coef    std err          z      P>|z|      [0.025      0.975]\n",
              "------------------------------------------------------------------------------\n",
              "intercept      0.0132      0.014      0.975      0.330      -0.013       0.040\n",
              "ar.L1          0.1299      0.059      2.217      0.027       0.015       0.245\n",
              "ma.L1         -0.9694      0.016    -62.235      0.000      -1.000      -0.939\n",
              "sigma2        48.9989      3.432     14.279      0.000      42.273      55.725\n",
              "===================================================================================\n",
              "Ljung-Box (Q):                       36.69   Jarque-Bera (JB):                26.17\n",
              "Prob(Q):                              0.62   Prob(JB):                         0.00\n",
              "Heteroskedasticity (H):               0.97   Skew:                             0.58\n",
              "Prob(H) (two-sided):                  0.85   Kurtosis:                         3.62\n",
              "===================================================================================\n",
              "\n",
              "Warnings:\n",
              "[1] Covariance matrix calculated using the outer product of gradients (complex-step).\n",
              "\"\"\""
            ]
          },
          "metadata": {
            "tags": []
          },
          "execution_count": 8
        }
      ]
    },
    {
      "cell_type": "markdown",
      "metadata": {
        "id": "juk7GDYrRAn1",
        "colab_type": "text"
      },
      "source": [
        "___\n",
        "Now let's look at the non-stationary, seasonal <strong>Airline Passengers</strong> dataset:"
      ]
    },
    {
      "cell_type": "code",
      "metadata": {
        "id": "YiCOGAnNRAn2",
        "colab_type": "code",
        "colab": {
          "base_uri": "https://localhost:8080/",
          "height": 866
        },
        "outputId": "c86c7a4e-dbac-41ea-957b-fc503ec78854"
      },
      "source": [
        "stepwise_fit = auto_arima(df1['Thousands of Passengers'], start_p=1, start_q=1,\n",
        "                          max_p=3, max_q=3, m=12,\n",
        "                          start_P=0, seasonal=True,\n",
        "                          d=None, D=1, trace=True,\n",
        "                          error_action='ignore',   # we don't want to know if an order does not work\n",
        "                          suppress_warnings=True,  # we don't want convergence warnings\n",
        "                          stepwise=True)           # set to stepwise\n",
        "\n",
        "stepwise_fit.summary()"
      ],
      "execution_count": 9,
      "outputs": [
        {
          "output_type": "stream",
          "text": [
            "Performing stepwise search to minimize aic\n",
            "Fit ARIMA(1,1,1)x(0,1,1,12) [intercept=True]; AIC=1024.824, BIC=1039.200, Time=0.737 seconds\n",
            "Fit ARIMA(0,1,0)x(0,1,0,12) [intercept=True]; AIC=1033.479, BIC=1039.229, Time=0.031 seconds\n",
            "Fit ARIMA(1,1,0)x(1,1,0,12) [intercept=True]; AIC=1022.316, BIC=1033.817, Time=0.571 seconds\n",
            "Fit ARIMA(0,1,1)x(0,1,1,12) [intercept=True]; AIC=1022.904, BIC=1034.405, Time=0.668 seconds\n",
            "Fit ARIMA(0,1,0)x(0,1,0,12) [intercept=False]; AIC=1031.508, BIC=1034.383, Time=0.029 seconds\n",
            "Fit ARIMA(1,1,0)x(0,1,0,12) [intercept=True]; AIC=1022.343, BIC=1030.968, Time=0.130 seconds\n",
            "Fit ARIMA(1,1,0)x(2,1,0,12) [intercept=True]; AIC=1021.137, BIC=1035.513, Time=1.749 seconds\n",
            "Fit ARIMA(1,1,0)x(2,1,1,12) [intercept=True]; AIC=1017.166, BIC=1034.417, Time=5.850 seconds\n",
            "Near non-invertible roots for order (1, 1, 0)(2, 1, 1, 12); setting score to inf (at least one inverse root too close to the border of the unit circle: 0.998)\n",
            "Fit ARIMA(1,1,0)x(1,1,1,12) [intercept=True]; AIC=1022.410, BIC=1036.786, Time=1.080 seconds\n",
            "Fit ARIMA(0,1,0)x(2,1,0,12) [intercept=True]; AIC=1034.067, BIC=1045.568, Time=1.209 seconds\n",
            "Fit ARIMA(2,1,0)x(2,1,0,12) [intercept=True]; AIC=1023.007, BIC=1040.258, Time=2.323 seconds\n",
            "Fit ARIMA(1,1,1)x(2,1,0,12) [intercept=True]; AIC=1022.905, BIC=1040.156, Time=2.093 seconds\n",
            "Fit ARIMA(0,1,1)x(2,1,0,12) [intercept=True]; AIC=1021.017, BIC=1035.393, Time=1.198 seconds\n",
            "Fit ARIMA(0,1,1)x(1,1,0,12) [intercept=True]; AIC=1022.314, BIC=1033.815, Time=0.398 seconds\n",
            "Fit ARIMA(0,1,1)x(2,1,1,12) [intercept=True]; AIC=1015.841, BIC=1033.092, Time=4.863 seconds\n",
            "Near non-invertible roots for order (0, 1, 1)(2, 1, 1, 12); setting score to inf (at least one inverse root too close to the border of the unit circle: 0.998)\n",
            "Fit ARIMA(0,1,1)x(1,1,1,12) [intercept=True]; AIC=1022.207, BIC=1036.583, Time=1.313 seconds\n",
            "Fit ARIMA(0,1,2)x(2,1,0,12) [intercept=True]; AIC=1022.996, BIC=1040.247, Time=1.809 seconds\n",
            "Fit ARIMA(1,1,2)x(2,1,0,12) [intercept=True]; AIC=1024.668, BIC=1044.795, Time=3.519 seconds\n",
            "Total fit time: 29.594 seconds\n"
          ],
          "name": "stdout"
        },
        {
          "output_type": "execute_result",
          "data": {
            "text/html": [
              "<table class=\"simpletable\">\n",
              "<caption>Statespace Model Results</caption>\n",
              "<tr>\n",
              "  <th>Dep. Variable:</th>                  <td>y</td>               <th>  No. Observations:  </th>    <td>144</td>  \n",
              "</tr>\n",
              "<tr>\n",
              "  <th>Model:</th>           <td>SARIMAX(0, 1, 1)x(2, 1, 1, 12)</td> <th>  Log Likelihood     </th> <td>-501.920</td>\n",
              "</tr>\n",
              "<tr>\n",
              "  <th>Date:</th>                   <td>Wed, 06 May 2020</td>        <th>  AIC                </th> <td>1015.841</td>\n",
              "</tr>\n",
              "<tr>\n",
              "  <th>Time:</th>                       <td>09:27:03</td>            <th>  BIC                </th> <td>1033.092</td>\n",
              "</tr>\n",
              "<tr>\n",
              "  <th>Sample:</th>                         <td>0</td>               <th>  HQIC               </th> <td>1022.850</td>\n",
              "</tr>\n",
              "<tr>\n",
              "  <th></th>                             <td> - 144</td>             <th>                     </th>     <td> </td>   \n",
              "</tr>\n",
              "<tr>\n",
              "  <th>Covariance Type:</th>               <td>opg</td>              <th>                     </th>     <td> </td>   \n",
              "</tr>\n",
              "</table>\n",
              "<table class=\"simpletable\">\n",
              "<tr>\n",
              "      <td></td>         <th>coef</th>     <th>std err</th>      <th>z</th>      <th>P>|z|</th>  <th>[0.025</th>    <th>0.975]</th>  \n",
              "</tr>\n",
              "<tr>\n",
              "  <th>intercept</th> <td>    0.0003</td> <td>    0.032</td> <td>    0.010</td> <td> 0.992</td> <td>   -0.062</td> <td>    0.063</td>\n",
              "</tr>\n",
              "<tr>\n",
              "  <th>ma.L1</th>     <td>   -0.4243</td> <td>    0.068</td> <td>   -6.211</td> <td> 0.000</td> <td>   -0.558</td> <td>   -0.290</td>\n",
              "</tr>\n",
              "<tr>\n",
              "  <th>ar.S.L12</th>  <td>    0.6656</td> <td>    0.155</td> <td>    4.296</td> <td> 0.000</td> <td>    0.362</td> <td>    0.969</td>\n",
              "</tr>\n",
              "<tr>\n",
              "  <th>ar.S.L24</th>  <td>    0.3330</td> <td>    0.096</td> <td>    3.479</td> <td> 0.001</td> <td>    0.145</td> <td>    0.521</td>\n",
              "</tr>\n",
              "<tr>\n",
              "  <th>ma.S.L12</th>  <td>   -0.9754</td> <td>    1.265</td> <td>   -0.771</td> <td> 0.441</td> <td>   -3.454</td> <td>    1.503</td>\n",
              "</tr>\n",
              "<tr>\n",
              "  <th>sigma2</th>    <td>  110.3992</td> <td>  117.291</td> <td>    0.941</td> <td> 0.347</td> <td> -119.486</td> <td>  340.285</td>\n",
              "</tr>\n",
              "</table>\n",
              "<table class=\"simpletable\">\n",
              "<tr>\n",
              "  <th>Ljung-Box (Q):</th>          <td>53.12</td> <th>  Jarque-Bera (JB):  </th> <td>7.57</td>\n",
              "</tr>\n",
              "<tr>\n",
              "  <th>Prob(Q):</th>                <td>0.08</td>  <th>  Prob(JB):          </th> <td>0.02</td>\n",
              "</tr>\n",
              "<tr>\n",
              "  <th>Heteroskedasticity (H):</th> <td>2.83</td>  <th>  Skew:              </th> <td>0.10</td>\n",
              "</tr>\n",
              "<tr>\n",
              "  <th>Prob(H) (two-sided):</th>    <td>0.00</td>  <th>  Kurtosis:          </th> <td>4.16</td>\n",
              "</tr>\n",
              "</table><br/><br/>Warnings:<br/>[1] Covariance matrix calculated using the outer product of gradients (complex-step)."
            ],
            "text/plain": [
              "<class 'statsmodels.iolib.summary.Summary'>\n",
              "\"\"\"\n",
              "                                 Statespace Model Results                                 \n",
              "==========================================================================================\n",
              "Dep. Variable:                                  y   No. Observations:                  144\n",
              "Model:             SARIMAX(0, 1, 1)x(2, 1, 1, 12)   Log Likelihood                -501.920\n",
              "Date:                            Wed, 06 May 2020   AIC                           1015.841\n",
              "Time:                                    09:27:03   BIC                           1033.092\n",
              "Sample:                                         0   HQIC                          1022.850\n",
              "                                            - 144                                         \n",
              "Covariance Type:                              opg                                         \n",
              "==============================================================================\n",
              "                 coef    std err          z      P>|z|      [0.025      0.975]\n",
              "------------------------------------------------------------------------------\n",
              "intercept      0.0003      0.032      0.010      0.992      -0.062       0.063\n",
              "ma.L1         -0.4243      0.068     -6.211      0.000      -0.558      -0.290\n",
              "ar.S.L12       0.6656      0.155      4.296      0.000       0.362       0.969\n",
              "ar.S.L24       0.3330      0.096      3.479      0.001       0.145       0.521\n",
              "ma.S.L12      -0.9754      1.265     -0.771      0.441      -3.454       1.503\n",
              "sigma2       110.3992    117.291      0.941      0.347    -119.486     340.285\n",
              "===================================================================================\n",
              "Ljung-Box (Q):                       53.12   Jarque-Bera (JB):                 7.57\n",
              "Prob(Q):                              0.08   Prob(JB):                         0.02\n",
              "Heteroskedasticity (H):               2.83   Skew:                             0.10\n",
              "Prob(H) (two-sided):                  0.00   Kurtosis:                         4.16\n",
              "===================================================================================\n",
              "\n",
              "Warnings:\n",
              "[1] Covariance matrix calculated using the outer product of gradients (complex-step).\n",
              "\"\"\""
            ]
          },
          "metadata": {
            "tags": []
          },
          "execution_count": 9
        }
      ]
    }
  ]
}